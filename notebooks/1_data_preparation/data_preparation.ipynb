{
 "cells": [
  {
   "attachments": {},
   "cell_type": "markdown",
   "id": "20203c0f",
   "metadata": {},
   "source": [
    "# I. Project Team Members"
   ]
  },
  {
   "attachments": {},
   "cell_type": "markdown",
   "id": "0aa3d7f4",
   "metadata": {},
   "source": [
    "| Prepared by | Email | Prepared for |\n",
    "| :-: | :-: | :-: |\n",
    "| **Hardefa Rogonondo** | hardefarogonondo@gmail.com | **Car Detection and Retrieval Engine** |"
   ]
  },
  {
   "attachments": {},
   "cell_type": "markdown",
   "id": "b05cd469",
   "metadata": {},
   "source": [
    "# II. Notebook Target Definition"
   ]
  },
  {
   "attachments": {},
   "cell_type": "markdown",
   "id": "47bae1d2",
   "metadata": {},
   "source": [
    "This notebook serves as the data preparation module for the Car Detection and Retrieval Engine project. In this notebook, we will download the dataset required for this project from Roboflow using the provided API key. The retrieved data will be utilized to train our object detection and classification models, forming the foundation for building an efficient car detection and retrieval system."
   ]
  },
  {
   "attachments": {},
   "cell_type": "markdown",
   "id": "3213f42d",
   "metadata": {},
   "source": [
    "# III. Notebook Setup"
   ]
  },
  {
   "attachments": {},
   "cell_type": "markdown",
   "id": "bb5c3810",
   "metadata": {},
   "source": [
    "## III.A. Import Libraries"
   ]
  },
  {
   "cell_type": "code",
   "execution_count": 1,
   "id": "ac84c896",
   "metadata": {},
   "outputs": [],
   "source": [
    "from dotenv import load_dotenv\n",
    "from roboflow import Roboflow\n",
    "import os\n",
    "import shutil\n",
    "\n",
    "load_dotenv('../../.env')\n",
    "api_key = os.getenv('ROBOFLOW_API_KEY')"
   ]
  },
  {
   "attachments": {},
   "cell_type": "markdown",
   "id": "7291e85b",
   "metadata": {},
   "source": [
    "## III.B. Download Dataset"
   ]
  },
  {
   "cell_type": "code",
   "execution_count": 2,
   "id": "115e50e7-4f27-4eba-a6ba-6ec7bfe3ce14",
   "metadata": {},
   "outputs": [],
   "source": [
    "rf = Roboflow(api_key=api_key)\n",
    "temp_dir = './data/'\n",
    "obj_detection_dir = '../../data/object_detection'\n",
    "obj_classification_dir = '../../data/object_classification'"
   ]
  },
  {
   "cell_type": "markdown",
   "id": "8e9d6314-3357-4e3f-8394-013f1af02d07",
   "metadata": {},
   "source": [
    "### III.B.1. Object Detection Dataset"
   ]
  },
  {
   "cell_type": "code",
   "execution_count": 3,
   "id": "4c54961d-d622-4135-9e01-3cc98c758c0d",
   "metadata": {},
   "outputs": [
    {
     "name": "stdout",
     "output_type": "stream",
     "text": [
      "loading Roboflow workspace...\n",
      "loading Roboflow project...\n"
     ]
    },
    {
     "name": "stderr",
     "output_type": "stream",
     "text": [
      "Downloading Dataset Version Zip in ./data/ to yolov5pytorch:: 100%|██████████████████████████████████████████████████████████████████████████████████████████████████| 580145/580145 [00:54<00:00, 10658.89it/s]"
     ]
    },
    {
     "name": "stdout",
     "output_type": "stream",
     "text": [
      "\n"
     ]
    },
    {
     "name": "stderr",
     "output_type": "stream",
     "text": [
      "\n",
      "Extracting Dataset Version Zip to ./data/ in yolov5pytorch:: 100%|██████████████████████████████████████████████████████████████████████████████████████████████████████| 18428/18428 [00:09<00:00, 1968.48it/s]\n"
     ]
    },
    {
     "name": "stdout",
     "output_type": "stream",
     "text": [
      "Dataset downloaded to: D:\\Projects\\Software\\car-detection-and-retrieval-engine\\notebooks\\1_data_preparation\\data\n"
     ]
    }
   ],
   "source": [
    "obj_detection_project = rf.workspace(\"lynkeus03\").project(\"vehicle-detection-by9xs\")\n",
    "obj_detection_version = obj_detection_project.version(3)\n",
    "obj_detection_dataset = obj_detection_version.download(model_format=\"yolov5\", location=temp_dir)\n",
    "print(f\"Dataset downloaded to: {obj_detection_dataset.location}\")"
   ]
  },
  {
   "cell_type": "code",
   "execution_count": 4,
   "id": "c793199a-cbdf-481a-bf40-cb9aa11d4f3c",
   "metadata": {},
   "outputs": [
    {
     "name": "stdout",
     "output_type": "stream",
     "text": [
      "Moved data.yaml to ../../data/object_detection\n",
      "Moved README.dataset.txt to ../../data/object_detection\n",
      "Moved README.roboflow.txt to ../../data/object_detection\n",
      "Moved train to ../../data/object_detection\n"
     ]
    }
   ],
   "source": [
    "for item in os.listdir(temp_dir):\n",
    "    source = os.path.join(temp_dir, item)\n",
    "    destination = os.path.join(obj_detection_dir, item)\n",
    "    shutil.move(source, destination)\n",
    "    print(f\"Moved {item} to {obj_detection_dir}\")"
   ]
  },
  {
   "cell_type": "code",
   "execution_count": 5,
   "id": "4736a1b1-86a7-4539-879a-24ea1e08e872",
   "metadata": {},
   "outputs": [
    {
     "name": "stdout",
     "output_type": "stream",
     "text": [
      "Temporary folder cleaned up.\n"
     ]
    }
   ],
   "source": [
    "shutil.rmtree(temp_dir)\n",
    "print(\"Temporary folder cleaned up.\")"
   ]
  },
  {
   "cell_type": "markdown",
   "id": "a246bf9f-2550-41f2-a7d7-d383d1869491",
   "metadata": {},
   "source": [
    "### III.B.2. Object Classification Dataset"
   ]
  },
  {
   "cell_type": "code",
   "execution_count": 6,
   "id": "2f425995",
   "metadata": {},
   "outputs": [
    {
     "name": "stdout",
     "output_type": "stream",
     "text": [
      "loading Roboflow workspace...\n",
      "loading Roboflow project...\n"
     ]
    },
    {
     "name": "stderr",
     "output_type": "stream",
     "text": [
      "Downloading Dataset Version Zip in ./data/ to yolov5pytorch:: 100%|██████████████████████████████████████████████████████████████████████████████████████████████████| 201861/201861 [00:19<00:00, 10311.56it/s]"
     ]
    },
    {
     "name": "stdout",
     "output_type": "stream",
     "text": [
      "\n"
     ]
    },
    {
     "name": "stderr",
     "output_type": "stream",
     "text": [
      "\n",
      "Extracting Dataset Version Zip to ./data/ in yolov5pytorch:: 100%|████████████████████████████████████████████████████████████████████████████████████████████████████████| 2524/2524 [00:01<00:00, 2141.29it/s]\n"
     ]
    },
    {
     "name": "stdout",
     "output_type": "stream",
     "text": [
      "Dataset downloaded to temporary folder: D:\\Projects\\Software\\car-detection-and-retrieval-engine\\notebooks\\1_data_preparation\\data\n"
     ]
    }
   ],
   "source": [
    "obj_classification_project = rf.workspace(\"smartnozzle\").project(\"modelmobil\")\n",
    "obj_classification_version = obj_classification_project.version(27)\n",
    "obj_classification_dataset = obj_classification_version.download(\"yolov5\", location=temp_dir)\n",
    "print(f\"Dataset downloaded to temporary folder: {obj_classification_dataset.location}\")"
   ]
  },
  {
   "cell_type": "code",
   "execution_count": 7,
   "id": "43e00e67-a67a-4f27-a519-b2738ed1b5eb",
   "metadata": {},
   "outputs": [
    {
     "name": "stdout",
     "output_type": "stream",
     "text": [
      "Moved data.yaml to ../../data/object_classification\n",
      "Moved README.dataset.txt to ../../data/object_classification\n",
      "Moved README.roboflow.txt to ../../data/object_classification\n",
      "Moved test to ../../data/object_classification\n",
      "Moved train to ../../data/object_classification\n",
      "Moved valid to ../../data/object_classification\n"
     ]
    }
   ],
   "source": [
    "for item in os.listdir(temp_dir):\n",
    "    source = os.path.join(temp_dir, item)\n",
    "    destination = os.path.join(obj_classification_dir, item)\n",
    "    shutil.move(source, destination)\n",
    "    print(f\"Moved {item} to {obj_classification_dir}\")"
   ]
  },
  {
   "cell_type": "code",
   "execution_count": 8,
   "id": "364ce865-e350-478e-80e1-d41e26f479f9",
   "metadata": {},
   "outputs": [
    {
     "name": "stdout",
     "output_type": "stream",
     "text": [
      "Temporary folder cleaned up.\n"
     ]
    }
   ],
   "source": [
    "shutil.rmtree(temp_dir)\n",
    "print(\"Temporary folder cleaned up.\")"
   ]
  }
 ],
 "metadata": {
  "kernelspec": {
   "display_name": "Python 3 (ipykernel)",
   "language": "python",
   "name": "python3"
  },
  "language_info": {
   "codemirror_mode": {
    "name": "ipython",
    "version": 3
   },
   "file_extension": ".py",
   "mimetype": "text/x-python",
   "name": "python",
   "nbconvert_exporter": "python",
   "pygments_lexer": "ipython3",
   "version": "3.12.11"
  }
 },
 "nbformat": 4,
 "nbformat_minor": 5
}
